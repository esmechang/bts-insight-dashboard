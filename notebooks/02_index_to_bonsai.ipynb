{
 "cells": [
  {
   "cell_type": "code",
   "execution_count": 35,
   "id": "a4faba35-ed43-4e54-9332-928e2766ca20",
   "metadata": {},
   "outputs": [
    {
     "data": {
      "text/plain": [
       "True"
      ]
     },
     "execution_count": 35,
     "metadata": {},
     "output_type": "execute_result"
    }
   ],
   "source": [
    "import requests\n",
    "import pandas as pd\n",
    "from urllib.parse import urlparse\n",
    "from dotenv import load_dotenv\n",
    "import os\n",
    "import re\n",
    "\n",
    "load_dotenv()"
   ]
  },
  {
   "cell_type": "code",
   "execution_count": 13,
   "id": "d6e0050d-5298-4b78-9eb1-8309f82fc052",
   "metadata": {},
   "outputs": [],
   "source": [
    "# Get and parse the URL\n",
    "bonsai_url = os.getenv(\"BONSAI_URL\")\n",
    "parsed = urlparse(bonsai_url)\n",
    "\n",
    "auth = (parsed.username, parsed.password)\n",
    "base_url = f\"{parsed.scheme}://{parsed.hostname}\""
   ]
  },
  {
   "cell_type": "code",
   "execution_count": 63,
   "id": "975d8cb4-72b7-41cf-8b10-2074e302e09d",
   "metadata": {},
   "outputs": [],
   "source": [
    "# Load your GPT-enriched lyrics\n",
    "lyrics_df = pd.read_csv(\"../data/lyrics_gpt_enriched.csv\")"
   ]
  },
  {
   "cell_type": "code",
   "execution_count": 75,
   "id": "caeb8feb-6aec-4f44-a8f5-7c9410b68778",
   "metadata": {},
   "outputs": [],
   "source": [
    "# Pick your index name\n",
    "#index_name = \"bts_lyrics\"\n",
    "lyrics_index = \"bts_lyrics_fixed\""
   ]
  },
  {
   "cell_type": "code",
   "execution_count": 76,
   "id": "ceb3944c-c90b-4ec2-a783-9d58fe832df9",
   "metadata": {},
   "outputs": [
    {
     "name": "stdout",
     "output_type": "stream",
     "text": [
      "Index creation status: 200\n"
     ]
    }
   ],
   "source": [
    "mapping = {\n",
    "    \"mappings\": {\n",
    "        \"properties\": {\n",
    "            \"track\": {\"type\": \"keyword\"},\n",
    "            \"lyric_excerpt\": {\"type\": \"text\"},\n",
    "            \"gpt_summary\": {\"type\": \"text\"},\n",
    "            \"gpt_emotion_tags\": {\"type\": \"keyword\"}  # ✅ This makes it aggregatable!\n",
    "        }\n",
    "    }\n",
    "}\n",
    "\n",
    "# Optional: create the index (Bonsai auto-creates, but we can force it)\n",
    "r = requests.put(f\"{base_url}/{lyrics_index}\", auth=auth)\n",
    "print(f\"Index creation status: {r.status_code}\")"
   ]
  },
  {
   "cell_type": "code",
   "execution_count": 77,
   "id": "b67b7483-0061-4110-85ae-3ce456ef51e6",
   "metadata": {},
   "outputs": [
    {
     "name": "stdout",
     "output_type": "stream",
     "text": [
      "Indexed lyric 1 with status 201\n",
      "Indexed lyric 2 with status 201\n",
      "Indexed lyric 3 with status 201\n",
      "Indexed lyric 4 with status 201\n",
      "Indexed lyric 5 with status 201\n",
      "Indexed lyric 6 with status 201\n"
     ]
    }
   ],
   "source": [
    "for i, row in lyrics_df.iterrows():\n",
    "    doc = row.to_dict()\n",
    "    r = requests.post(f\"{base_url}/{lyrics_index}/_doc\", json=doc, auth=auth)\n",
    "    print(f\"Indexed lyric {i+1} with status {r.status_code}\")\n"
   ]
  },
  {
   "cell_type": "code",
   "execution_count": 78,
   "id": "293428ee-88ef-45f5-a8df-866100cfecfc",
   "metadata": {},
   "outputs": [
    {
     "name": "stdout",
     "output_type": "stream",
     "text": [
      "['Apology', 'Regret', 'Fraternal Bond']\n",
      "['Encouragement', 'Unity', 'Freedom']\n",
      "['Longing', 'Uncertainty', 'Loneliness']\n"
     ]
    }
   ],
   "source": [
    "r = requests.get(f\"{base_url}/{lyrics_index}/_search?size=3\", auth=auth)\n",
    "for hit in r.json()[\"hits\"][\"hits\"]:\n",
    "    print(hit[\"_source\"][\"gpt_emotion_tags\"])\n"
   ]
  },
  {
   "cell_type": "code",
   "execution_count": 79,
   "id": "1e7d1ea2-b433-4b5f-b1cb-b29e2f791f97",
   "metadata": {},
   "outputs": [
    {
     "name": "stdout",
     "output_type": "stream",
     "text": [
      "{'took': 0, 'timed_out': False, '_shards': {'total': 1, 'successful': 1, 'skipped': 0, 'failed': 0}, 'hits': {'total': {'value': 6, 'relation': 'eq'}, 'max_score': 1.0, 'hits': [{'_index': 'bts_lyrics_fixed', '_type': '_doc', '_id': '1wUVq5cBTo8i77nQhpd9', '_score': 1.0, '_source': {'album': 'Wings', 'track': 'Stigma', 'lyric_excerpt': 'I’m sorry, I’m sorry, my brother', 'timestamp': '2016-10-10', 'gpt_summary': 'Keywords: Apology, Regret, Fraternal bond\\nSummary: The emotion in this lyric is filled with deep regret and a sincere apology to a beloved brother, highlighting the strong bond between them.', 'gpt_emotion_tags': ['Apology', 'Regret', 'Fraternal Bond']}}, {'_index': 'bts_lyrics_fixed', '_type': '_doc', '_id': '2AUVq5cBTo8i77nQiJfy', '_score': 1.0, '_source': {'album': 'Map of the Soul: 7', 'track': 'Black Swan', 'lyric_excerpt': 'Do your thing, do your thing with me now', 'timestamp': '2020-02-21', 'gpt_summary': 'Keywords: encouragement, unity, freedom\\nSummary: The lyric conveys a sense of encouragement and unity, inviting the listener to be themselves and express their individuality without fear or hesitation.', 'gpt_emotion_tags': ['Encouragement', 'Unity', 'Freedom']}}, {'_index': 'bts_lyrics_fixed', '_type': '_doc', '_id': '2QUVq5cBTo8i77nQipeZ', '_score': 1.0, '_source': {'album': 'BE', 'track': 'Blue & Grey', 'lyric_excerpt': 'Where is my angel? The end of the day', 'timestamp': '2020-11-20', 'gpt_summary': 'Keywords: longing, uncertainty, loneliness\\nSummary: The lyric conveys a sense of yearning and solitude, as the speaker searches for their angel at the end of the day.', 'gpt_emotion_tags': ['Longing', 'Uncertainty', 'Loneliness']}}, {'_index': 'bts_lyrics_fixed', '_type': '_doc', '_id': '2wUVq5cBTo8i77nQjJdc', '_score': 1.0, '_source': {'album': 'Proof', 'track': 'Yet To Come', 'lyric_excerpt': 'The best yet to come', 'timestamp': '2022-06-10', 'gpt_summary': 'Keywords: Hope, Optimism, Anticipation\\nSummary: The lyrics convey a sense of positivity and excitement for the future, suggesting that better things are on the horizon.', 'gpt_emotion_tags': ['Hope', 'Optimism', 'Anticipation']}}, {'_index': 'bts_lyrics_fixed', '_type': '_doc', '_id': '3AUVq5cBTo8i77nQjZfg', '_score': 1.0, '_source': {'album': 'Love Yourself: Tear', 'track': 'Fake Love', 'lyric_excerpt': \"I'm so sick of this fake love\", 'timestamp': '2018-05-18', 'gpt_summary': 'Keywords: Sick, Fake Love, Exhaustion\\n\\nSummary: The lyric conveys a feeling of weariness and disillusionment with insincere relationships or emotions.', 'gpt_emotion_tags': ['Sick', 'Fake Love', 'Exhaustion']}}, {'_index': 'bts_lyrics_fixed', '_type': '_doc', '_id': '3QUVq5cBTo8i77nQj5eE', '_score': 1.0, '_source': {'album': 'Dynamite (Single)', 'track': 'Dynamite', 'lyric_excerpt': \"Cause I-I-I'm in the stars tonight\", 'timestamp': '2020-08-21', 'gpt_summary': 'Keywords: wonder, excitement, freedom\\nSummary: The lyric conveys a feeling of awe and exhilaration at being surrounded by the stars, symbolizing a sense of freedom and limitless possibilities.', 'gpt_emotion_tags': ['Wonder', 'Excitement', 'Freedom']}}]}}\n"
     ]
    }
   ],
   "source": [
    "r = requests.get(f\"{base_url}/{lyrics_index}/_search\", auth=auth)\n",
    "print(r.json())"
   ]
  },
  {
   "cell_type": "code",
   "execution_count": 82,
   "id": "dbde0db0-992c-4f00-a5e4-88192256ec28",
   "metadata": {},
   "outputs": [],
   "source": [
    "# Step: Extract emotion tags from GPT summaries\n",
    "def extract_emotion_tags(summary):\n",
    "    if not isinstance(summary, str):\n",
    "        return []\n",
    "\n",
    "    # Look for a line starting with \"Keywords:\"\n",
    "    for line in summary.splitlines():\n",
    "        if line.strip().lower().startswith(\"keywords:\"):\n",
    "            tag_string = line.split(\":\", 1)[1]\n",
    "            tags = [tag.strip().title() for tag in tag_string.split(\",\") if tag.strip()]\n",
    "            return tags\n",
    "    return []\n",
    "\n",
    "\n",
    "#for i, val in lyrics_df[\"gpt_summary\"].head(5).items():\n",
    "    #print(f\"{i}: {repr(val)}\")\n",
    "\n",
    "\n",
    "lyrics_df[\"gpt_emotion_tags\"] = lyrics_df[\"gpt_summary\"].apply(extract_emotion_tags)\n",
    "#lyrics_df[[\"gpt_summary\", \"gpt_emotion_tags\"]].head()\n"
   ]
  },
  {
   "cell_type": "code",
   "execution_count": 58,
   "id": "794f5907-cd2e-4a71-a34f-0034e1f59faa",
   "metadata": {},
   "outputs": [
    {
     "name": "stdout",
     "output_type": "stream",
     "text": [
      "Index creation response: 400 — {\"error\":{\"root_cause\":[{\"type\":\"resource_already_exists_exception\",\"reason\":\"index [bts_fan_comments_fixed/UArSQe6QQWqbDCtaM57gag] already exists\",\"index_uuid\":\"UArSQe6QQWqbDCtaM57gag\",\"index\":\"bts_fan_comments_fixed\"}],\"type\":\"resource_already_exists_exception\",\"reason\":\"index [bts_fan_comments_fixed/UArSQe6QQWqbDCtaM57gag] already exists\",\"index_uuid\":\"UArSQe6QQWqbDCtaM57gag\",\"index\":\"bts_fan_comments_fixed\"},\"status\":400}\n"
     ]
    }
   ],
   "source": [
    "# Load fan comments data\n",
    "comments_df = pd.read_csv(\"../data/fan_comments_gpt_enriched.csv\")\n",
    "\n",
    "# Delete old index if needed\n",
    "requests.delete(f\"{base_url}/{comments_index}\", auth=auth)\n",
    "\n",
    "# Recreate it with the correct mapping\n",
    "mapping = {\n",
    "    \"mappings\": {\n",
    "        \"properties\": {\n",
    "            \"fan_comment\": {\"type\": \"text\"},\n",
    "            \"track\": {\"type\": \"keyword\"},\n",
    "            \"timestamp\": {\"type\": \"date\"},\n",
    "            \"source\": {\"type\": \"keyword\"},\n",
    "            \"gpt_sentiment\": {\"type\": \"text\"},\n",
    "            \"gpt_sentiment_label\": {\"type\": \"keyword\"},\n",
    "            \"gpt_sentiment_explanation\": {\"type\": \"text\"}\n",
    "        }\n",
    "    }\n",
    "}\n",
    "requests.put(f\"{base_url}/{comments_index}\", json=mapping, auth=auth)\n",
    "\n",
    "\n",
    "# Create the new index in Bonsai\n",
    "comments_index_fixed = \"bts_fan_comments_fixed\"\n",
    "r = requests.put(f\"{base_url}/{comments_index_fixed}\", json=mapping, auth=auth)\n",
    "print(f\"Index creation response: {r.status_code} — {r.text}\")\n",
    "\n",
    "\n",
    "# Set index name\n",
    "#comments_index = \"bts_fan_comments\"\n",
    "\n",
    "# Optional: create index\n",
    "#r = requests.put(f\"{base_url}/{comments_index}\", auth=auth)\n",
    "#print(f\"Fan comments index creation status: {r.status_code}\")\n"
   ]
  },
  {
   "cell_type": "code",
   "execution_count": 59,
   "id": "8f76367d-4a68-4230-9fe6-8a0ff957ea45",
   "metadata": {},
   "outputs": [
    {
     "name": "stdout",
     "output_type": "stream",
     "text": [
      "                                       gpt_sentiment gpt_sentiment_label\n",
      "0  Sadness - The comment indicates that the perso...             Sadness\n",
      "1  Inspiration - The comment suggests that the co...         Inspiration\n",
      "2  Inspiration - The comment expresses a feeling ...         Inspiration\n",
      "3  Inspiration - The comment expresses a renewed ...         Inspiration\n",
      "4  Inspiration - The comment suggests that the ly...         Inspiration\n"
     ]
    }
   ],
   "source": [
    "def split_sentiment(output):\n",
    "    # Match any non-punctuation label followed by \":\" or \"-\" and a space, then explanation\n",
    "    match = re.match(r\"^\\s*([\\w\\s]+)\\s*[:\\-–—]\\s*(.+)\", str(output))\n",
    "    if match:\n",
    "        label = match.group(1).strip().title()  # e.g., \"Inspiration\"\n",
    "        explanation = match.group(2).strip()\n",
    "        return pd.Series([label, explanation])\n",
    "    else:\n",
    "        return pd.Series([\"Unknown\", output])\n",
    "\n",
    "# Apply to fan comment GPT output\n",
    "comments_df[[\"gpt_sentiment_label\", \"gpt_sentiment_explanation\"]] = (\n",
    "    comments_df[\"gpt_sentiment\"].apply(split_sentiment)\n",
    ")\n",
    "\n",
    "# Confirm\n",
    "print(comments_df[[\"gpt_sentiment\", \"gpt_sentiment_label\"]].head())\n",
    "# comments_df[[\"gpt_sentiment\", \"gpt_sentiment_label\"]].head()"
   ]
  },
  {
   "cell_type": "code",
   "execution_count": 60,
   "id": "f751414f-3f3a-410e-871a-6870b2363065",
   "metadata": {},
   "outputs": [
    {
     "name": "stdout",
     "output_type": "stream",
     "text": [
      "Posting doc 1: label = Sadness\n",
      "Posting doc 2: label = Inspiration\n",
      "Posting doc 3: label = Inspiration\n",
      "Posting doc 4: label = Inspiration\n",
      "Posting doc 5: label = Inspiration\n",
      "Posting doc 6: label = Joy\n"
     ]
    }
   ],
   "source": [
    "for i, row in comments_df.iterrows():\n",
    "    doc = row.to_dict()\n",
    "    print(f\"Posting doc {i+1}: label = {doc['gpt_sentiment_label']}\")\n",
    "    r = requests.post(f\"{base_url}/{comments_index_fixed}/_doc\", json=doc, auth=auth)\n",
    "\n"
   ]
  },
  {
   "cell_type": "code",
   "execution_count": 61,
   "id": "8b90125d-9083-4601-9521-97e8f356a0c5",
   "metadata": {},
   "outputs": [
    {
     "name": "stdout",
     "output_type": "stream",
     "text": [
      "Retrieved 6 documents\n",
      "Sadness\n",
      "Inspiration\n",
      "Inspiration\n",
      "Inspiration\n",
      "Inspiration\n",
      "Joy\n"
     ]
    }
   ],
   "source": [
    "# Check if the comments are in\n",
    "r = requests.get(f\"{base_url}/{comments_index}/_search\", auth=auth)\n",
    "hits = r.json()[\"hits\"][\"hits\"]\n",
    "print(f\"Retrieved {len(hits)} documents\")\n",
    "for hit in hits:  \n",
    "    print(hit[\"_source\"][\"gpt_sentiment_label\"])\n"
   ]
  },
  {
   "cell_type": "code",
   "execution_count": null,
   "id": "01e3e3a1-af2c-4f78-a2c1-4d5e2d95d012",
   "metadata": {},
   "outputs": [],
   "source": []
  }
 ],
 "metadata": {
  "kernelspec": {
   "display_name": "Python 3 (ipykernel)",
   "language": "python",
   "name": "python3"
  },
  "language_info": {
   "codemirror_mode": {
    "name": "ipython",
    "version": 3
   },
   "file_extension": ".py",
   "mimetype": "text/x-python",
   "name": "python",
   "nbconvert_exporter": "python",
   "pygments_lexer": "ipython3",
   "version": "3.8.2"
  }
 },
 "nbformat": 4,
 "nbformat_minor": 5
}
